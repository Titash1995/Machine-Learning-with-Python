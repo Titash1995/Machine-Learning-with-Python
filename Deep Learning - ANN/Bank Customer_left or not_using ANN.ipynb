{
 "cells": [
  {
   "cell_type": "markdown",
   "metadata": {},
   "source": [
    "# Artificial Neural Network"
   ]
  },
  {
   "cell_type": "markdown",
   "metadata": {},
   "source": [
    "### Importing the libraries"
   ]
  },
  {
   "cell_type": "code",
   "execution_count": 2,
   "metadata": {},
   "outputs": [],
   "source": [
    "import numpy as np\n",
    "import pandas as pd\n",
    "import tensorflow as tf"
   ]
  },
  {
   "cell_type": "markdown",
   "metadata": {},
   "source": [
    "This will print the version of tensorflow, we are using"
   ]
  },
  {
   "cell_type": "code",
   "execution_count": 3,
   "metadata": {},
   "outputs": [
    {
     "data": {
      "text/plain": [
       "'2.0.0'"
      ]
     },
     "execution_count": 3,
     "metadata": {},
     "output_type": "execute_result"
    }
   ],
   "source": [
    "tf.__version__"
   ]
  },
  {
   "cell_type": "markdown",
   "metadata": {},
   "source": [
    "## PART 1:  Data Preprocessing"
   ]
  },
  {
   "cell_type": "code",
   "execution_count": 4,
   "metadata": {},
   "outputs": [],
   "source": [
    "dataset=pd.read_csv(\"Churn_Modelling.csv\")"
   ]
  },
  {
   "cell_type": "markdown",
   "metadata": {},
   "source": [
    "### This data set contains details of a bank's customers and the target variable is a binary variable reflecting the fact whether the customer left the bank or not"
   ]
  },
  {
   "cell_type": "code",
   "execution_count": 5,
   "metadata": {},
   "outputs": [
    {
     "data": {
      "text/html": [
       "<div>\n",
       "<style scoped>\n",
       "    .dataframe tbody tr th:only-of-type {\n",
       "        vertical-align: middle;\n",
       "    }\n",
       "\n",
       "    .dataframe tbody tr th {\n",
       "        vertical-align: top;\n",
       "    }\n",
       "\n",
       "    .dataframe thead th {\n",
       "        text-align: right;\n",
       "    }\n",
       "</style>\n",
       "<table border=\"1\" class=\"dataframe\">\n",
       "  <thead>\n",
       "    <tr style=\"text-align: right;\">\n",
       "      <th></th>\n",
       "      <th>RowNumber</th>\n",
       "      <th>CustomerId</th>\n",
       "      <th>Surname</th>\n",
       "      <th>CreditScore</th>\n",
       "      <th>Geography</th>\n",
       "      <th>Gender</th>\n",
       "      <th>Age</th>\n",
       "      <th>Tenure</th>\n",
       "      <th>Balance</th>\n",
       "      <th>NumOfProducts</th>\n",
       "      <th>HasCrCard</th>\n",
       "      <th>IsActiveMember</th>\n",
       "      <th>EstimatedSalary</th>\n",
       "      <th>Exited</th>\n",
       "    </tr>\n",
       "  </thead>\n",
       "  <tbody>\n",
       "    <tr>\n",
       "      <th>0</th>\n",
       "      <td>1</td>\n",
       "      <td>15634602</td>\n",
       "      <td>Hargrave</td>\n",
       "      <td>619</td>\n",
       "      <td>France</td>\n",
       "      <td>Female</td>\n",
       "      <td>42</td>\n",
       "      <td>2</td>\n",
       "      <td>0.00</td>\n",
       "      <td>1</td>\n",
       "      <td>1</td>\n",
       "      <td>1</td>\n",
       "      <td>101348.88</td>\n",
       "      <td>1</td>\n",
       "    </tr>\n",
       "    <tr>\n",
       "      <th>1</th>\n",
       "      <td>2</td>\n",
       "      <td>15647311</td>\n",
       "      <td>Hill</td>\n",
       "      <td>608</td>\n",
       "      <td>Spain</td>\n",
       "      <td>Female</td>\n",
       "      <td>41</td>\n",
       "      <td>1</td>\n",
       "      <td>83807.86</td>\n",
       "      <td>1</td>\n",
       "      <td>0</td>\n",
       "      <td>1</td>\n",
       "      <td>112542.58</td>\n",
       "      <td>0</td>\n",
       "    </tr>\n",
       "    <tr>\n",
       "      <th>2</th>\n",
       "      <td>3</td>\n",
       "      <td>15619304</td>\n",
       "      <td>Onio</td>\n",
       "      <td>502</td>\n",
       "      <td>France</td>\n",
       "      <td>Female</td>\n",
       "      <td>42</td>\n",
       "      <td>8</td>\n",
       "      <td>159660.80</td>\n",
       "      <td>3</td>\n",
       "      <td>1</td>\n",
       "      <td>0</td>\n",
       "      <td>113931.57</td>\n",
       "      <td>1</td>\n",
       "    </tr>\n",
       "    <tr>\n",
       "      <th>3</th>\n",
       "      <td>4</td>\n",
       "      <td>15701354</td>\n",
       "      <td>Boni</td>\n",
       "      <td>699</td>\n",
       "      <td>France</td>\n",
       "      <td>Female</td>\n",
       "      <td>39</td>\n",
       "      <td>1</td>\n",
       "      <td>0.00</td>\n",
       "      <td>2</td>\n",
       "      <td>0</td>\n",
       "      <td>0</td>\n",
       "      <td>93826.63</td>\n",
       "      <td>0</td>\n",
       "    </tr>\n",
       "    <tr>\n",
       "      <th>4</th>\n",
       "      <td>5</td>\n",
       "      <td>15737888</td>\n",
       "      <td>Mitchell</td>\n",
       "      <td>850</td>\n",
       "      <td>Spain</td>\n",
       "      <td>Female</td>\n",
       "      <td>43</td>\n",
       "      <td>2</td>\n",
       "      <td>125510.82</td>\n",
       "      <td>1</td>\n",
       "      <td>1</td>\n",
       "      <td>1</td>\n",
       "      <td>79084.10</td>\n",
       "      <td>0</td>\n",
       "    </tr>\n",
       "    <tr>\n",
       "      <th>5</th>\n",
       "      <td>6</td>\n",
       "      <td>15574012</td>\n",
       "      <td>Chu</td>\n",
       "      <td>645</td>\n",
       "      <td>Spain</td>\n",
       "      <td>Male</td>\n",
       "      <td>44</td>\n",
       "      <td>8</td>\n",
       "      <td>113755.78</td>\n",
       "      <td>2</td>\n",
       "      <td>1</td>\n",
       "      <td>0</td>\n",
       "      <td>149756.71</td>\n",
       "      <td>1</td>\n",
       "    </tr>\n",
       "    <tr>\n",
       "      <th>6</th>\n",
       "      <td>7</td>\n",
       "      <td>15592531</td>\n",
       "      <td>Bartlett</td>\n",
       "      <td>822</td>\n",
       "      <td>France</td>\n",
       "      <td>Male</td>\n",
       "      <td>50</td>\n",
       "      <td>7</td>\n",
       "      <td>0.00</td>\n",
       "      <td>2</td>\n",
       "      <td>1</td>\n",
       "      <td>1</td>\n",
       "      <td>10062.80</td>\n",
       "      <td>0</td>\n",
       "    </tr>\n",
       "    <tr>\n",
       "      <th>7</th>\n",
       "      <td>8</td>\n",
       "      <td>15656148</td>\n",
       "      <td>Obinna</td>\n",
       "      <td>376</td>\n",
       "      <td>Germany</td>\n",
       "      <td>Female</td>\n",
       "      <td>29</td>\n",
       "      <td>4</td>\n",
       "      <td>115046.74</td>\n",
       "      <td>4</td>\n",
       "      <td>1</td>\n",
       "      <td>0</td>\n",
       "      <td>119346.88</td>\n",
       "      <td>1</td>\n",
       "    </tr>\n",
       "    <tr>\n",
       "      <th>8</th>\n",
       "      <td>9</td>\n",
       "      <td>15792365</td>\n",
       "      <td>He</td>\n",
       "      <td>501</td>\n",
       "      <td>France</td>\n",
       "      <td>Male</td>\n",
       "      <td>44</td>\n",
       "      <td>4</td>\n",
       "      <td>142051.07</td>\n",
       "      <td>2</td>\n",
       "      <td>0</td>\n",
       "      <td>1</td>\n",
       "      <td>74940.50</td>\n",
       "      <td>0</td>\n",
       "    </tr>\n",
       "    <tr>\n",
       "      <th>9</th>\n",
       "      <td>10</td>\n",
       "      <td>15592389</td>\n",
       "      <td>H?</td>\n",
       "      <td>684</td>\n",
       "      <td>France</td>\n",
       "      <td>Male</td>\n",
       "      <td>27</td>\n",
       "      <td>2</td>\n",
       "      <td>134603.88</td>\n",
       "      <td>1</td>\n",
       "      <td>1</td>\n",
       "      <td>1</td>\n",
       "      <td>71725.73</td>\n",
       "      <td>0</td>\n",
       "    </tr>\n",
       "  </tbody>\n",
       "</table>\n",
       "</div>"
      ],
      "text/plain": [
       "   RowNumber  CustomerId   Surname  CreditScore Geography  Gender  Age  \\\n",
       "0          1    15634602  Hargrave          619    France  Female   42   \n",
       "1          2    15647311      Hill          608     Spain  Female   41   \n",
       "2          3    15619304      Onio          502    France  Female   42   \n",
       "3          4    15701354      Boni          699    France  Female   39   \n",
       "4          5    15737888  Mitchell          850     Spain  Female   43   \n",
       "5          6    15574012       Chu          645     Spain    Male   44   \n",
       "6          7    15592531  Bartlett          822    France    Male   50   \n",
       "7          8    15656148    Obinna          376   Germany  Female   29   \n",
       "8          9    15792365        He          501    France    Male   44   \n",
       "9         10    15592389        H?          684    France    Male   27   \n",
       "\n",
       "   Tenure    Balance  NumOfProducts  HasCrCard  IsActiveMember  \\\n",
       "0       2       0.00              1          1               1   \n",
       "1       1   83807.86              1          0               1   \n",
       "2       8  159660.80              3          1               0   \n",
       "3       1       0.00              2          0               0   \n",
       "4       2  125510.82              1          1               1   \n",
       "5       8  113755.78              2          1               0   \n",
       "6       7       0.00              2          1               1   \n",
       "7       4  115046.74              4          1               0   \n",
       "8       4  142051.07              2          0               1   \n",
       "9       2  134603.88              1          1               1   \n",
       "\n",
       "   EstimatedSalary  Exited  \n",
       "0        101348.88       1  \n",
       "1        112542.58       0  \n",
       "2        113931.57       1  \n",
       "3         93826.63       0  \n",
       "4         79084.10       0  \n",
       "5        149756.71       1  \n",
       "6         10062.80       0  \n",
       "7        119346.88       1  \n",
       "8         74940.50       0  \n",
       "9         71725.73       0  "
      ]
     },
     "execution_count": 5,
     "metadata": {},
     "output_type": "execute_result"
    }
   ],
   "source": [
    "dataset.head(10)"
   ]
  },
  {
   "cell_type": "code",
   "execution_count": 6,
   "metadata": {},
   "outputs": [],
   "source": [
    "dataset = pd.read_csv('Churn_Modelling.csv')\n",
    "X = dataset.iloc[:, 3:-1].values\n",
    "y = dataset.iloc[:, -1].values"
   ]
  },
  {
   "cell_type": "code",
   "execution_count": 7,
   "metadata": {},
   "outputs": [
    {
     "name": "stdout",
     "output_type": "stream",
     "text": [
      "[[619 'France' 'Female' ... 1 1 101348.88]\n",
      " [608 'Spain' 'Female' ... 0 1 112542.58]\n",
      " [502 'France' 'Female' ... 1 0 113931.57]\n",
      " ...\n",
      " [709 'France' 'Female' ... 0 1 42085.58]\n",
      " [772 'Germany' 'Male' ... 1 0 92888.52]\n",
      " [792 'France' 'Female' ... 1 0 38190.78]]\n"
     ]
    }
   ],
   "source": [
    "print(X)"
   ]
  },
  {
   "cell_type": "code",
   "execution_count": 8,
   "metadata": {},
   "outputs": [
    {
     "name": "stdout",
     "output_type": "stream",
     "text": [
      "[1 0 1 ... 1 1 0]\n"
     ]
    }
   ],
   "source": [
    "print(y)"
   ]
  },
  {
   "cell_type": "markdown",
   "metadata": {},
   "source": [
    "##### Label Encoding the \"Gender\" column"
   ]
  },
  {
   "cell_type": "code",
   "execution_count": 9,
   "metadata": {},
   "outputs": [
    {
     "data": {
      "text/plain": [
       "array(['Female', 'Female', 'Female', ..., 'Female', 'Male', 'Female'],\n",
       "      dtype=object)"
      ]
     },
     "execution_count": 9,
     "metadata": {},
     "output_type": "execute_result"
    }
   ],
   "source": [
    "X[:, 2]"
   ]
  },
  {
   "cell_type": "code",
   "execution_count": 10,
   "metadata": {},
   "outputs": [
    {
     "data": {
      "text/plain": [
       "array([['Female'],\n",
       "       ['Female'],\n",
       "       ['Female'],\n",
       "       ...,\n",
       "       ['Female'],\n",
       "       ['Male'],\n",
       "       ['Female']], dtype=object)"
      ]
     },
     "execution_count": 10,
     "metadata": {},
     "output_type": "execute_result"
    }
   ],
   "source": [
    "X[:, 2:3]"
   ]
  },
  {
   "cell_type": "code",
   "execution_count": 11,
   "metadata": {},
   "outputs": [],
   "source": [
    "from sklearn.preprocessing import LabelEncoder\n",
    "le = LabelEncoder()\n",
    "X[:, 2] = le.fit_transform(X[:, 2])"
   ]
  },
  {
   "cell_type": "code",
   "execution_count": 12,
   "metadata": {},
   "outputs": [
    {
     "data": {
      "text/plain": [
       "array([[619, 'France', 0, ..., 1, 1, 101348.88],\n",
       "       [608, 'Spain', 0, ..., 0, 1, 112542.58],\n",
       "       [502, 'France', 0, ..., 1, 0, 113931.57],\n",
       "       ...,\n",
       "       [709, 'France', 0, ..., 0, 1, 42085.58],\n",
       "       [772, 'Germany', 1, ..., 1, 0, 92888.52],\n",
       "       [792, 'France', 0, ..., 1, 0, 38190.78]], dtype=object)"
      ]
     },
     "execution_count": 12,
     "metadata": {},
     "output_type": "execute_result"
    }
   ],
   "source": [
    "X"
   ]
  },
  {
   "cell_type": "markdown",
   "metadata": {},
   "source": [
    "#### One Hot Encoding the \"Geography\" column"
   ]
  },
  {
   "cell_type": "code",
   "execution_count": 13,
   "metadata": {},
   "outputs": [],
   "source": [
    "from sklearn.compose import ColumnTransformer\n",
    "from sklearn.preprocessing import OneHotEncoder\n",
    "ct = ColumnTransformer(transformers=[('encoder', OneHotEncoder(), [1])], remainder='passthrough')\n",
    "X=ct.fit_transform(X)"
   ]
  },
  {
   "cell_type": "code",
   "execution_count": 14,
   "metadata": {},
   "outputs": [
    {
     "data": {
      "text/plain": [
       "array([[1.0, 0.0, 0.0, ..., 1, 1, 101348.88],\n",
       "       [0.0, 0.0, 1.0, ..., 0, 1, 112542.58],\n",
       "       [1.0, 0.0, 0.0, ..., 1, 0, 113931.57],\n",
       "       ...,\n",
       "       [1.0, 0.0, 0.0, ..., 0, 1, 42085.58],\n",
       "       [0.0, 1.0, 0.0, ..., 1, 0, 92888.52],\n",
       "       [1.0, 0.0, 0.0, ..., 1, 0, 38190.78]], dtype=object)"
      ]
     },
     "execution_count": 14,
     "metadata": {},
     "output_type": "execute_result"
    }
   ],
   "source": [
    "X"
   ]
  },
  {
   "cell_type": "code",
   "execution_count": 15,
   "metadata": {},
   "outputs": [
    {
     "data": {
      "text/plain": [
       "(10000, 12)"
      ]
     },
     "execution_count": 15,
     "metadata": {},
     "output_type": "execute_result"
    }
   ],
   "source": [
    "X.shape"
   ]
  },
  {
   "cell_type": "markdown",
   "metadata": {},
   "source": [
    "### Feature Scaling"
   ]
  },
  {
   "cell_type": "code",
   "execution_count": 16,
   "metadata": {},
   "outputs": [],
   "source": [
    "from sklearn.preprocessing import StandardScaler\n",
    "sc=StandardScaler()"
   ]
  },
  {
   "cell_type": "code",
   "execution_count": 17,
   "metadata": {},
   "outputs": [],
   "source": [
    "X=sc.fit_transform(X)"
   ]
  },
  {
   "cell_type": "code",
   "execution_count": 18,
   "metadata": {},
   "outputs": [
    {
     "name": "stdout",
     "output_type": "stream",
     "text": [
      "[[ 0.99720391 -0.57873591 -0.57380915 ...  0.64609167  0.97024255\n",
      "   0.02188649]\n",
      " [-1.00280393 -0.57873591  1.74273971 ... -1.54776799  0.97024255\n",
      "   0.21653375]\n",
      " [ 0.99720391 -0.57873591 -0.57380915 ...  0.64609167 -1.03067011\n",
      "   0.2406869 ]\n",
      " ...\n",
      " [ 0.99720391 -0.57873591 -0.57380915 ... -1.54776799  0.97024255\n",
      "  -1.00864308]\n",
      " [-1.00280393  1.72790383 -0.57380915 ...  0.64609167 -1.03067011\n",
      "  -0.12523071]\n",
      " [ 0.99720391 -0.57873591 -0.57380915 ...  0.64609167 -1.03067011\n",
      "  -1.07636976]]\n"
     ]
    }
   ],
   "source": [
    "print(X)"
   ]
  },
  {
   "cell_type": "markdown",
   "metadata": {},
   "source": [
    "### Splitting the dataset into the Training set and Test set"
   ]
  },
  {
   "cell_type": "code",
   "execution_count": 19,
   "metadata": {},
   "outputs": [],
   "source": [
    "from sklearn.model_selection import train_test_split\n",
    "X_train, X_test, y_train, y_test = train_test_split(X, y, test_size = 0.2, random_state = 0)"
   ]
  },
  {
   "cell_type": "markdown",
   "metadata": {},
   "source": [
    "## Part 2 - Building the ANN"
   ]
  },
  {
   "cell_type": "code",
   "execution_count": 20,
   "metadata": {},
   "outputs": [
    {
     "name": "stderr",
     "output_type": "stream",
     "text": [
      "Using TensorFlow backend.\n"
     ]
    }
   ],
   "source": [
    "from keras.models import Sequential\n",
    "from keras.layers import Dense, Activation"
   ]
  },
  {
   "cell_type": "markdown",
   "metadata": {},
   "source": [
    "model=sequential([L1,          L2,             L3])"
   ]
  },
  {
   "cell_type": "markdown",
   "metadata": {},
   "source": [
    "The first layer and only the first layer needs to know the what i/p shape should it expect"
   ]
  },
  {
   "cell_type": "markdown",
   "metadata": {},
   "source": [
    "L1 = the input layer and the first hidden layer"
   ]
  },
  {
   "cell_type": "markdown",
   "metadata": {},
   "source": [
    "L2 =  the second hidden layer"
   ]
  },
  {
   "cell_type": "markdown",
   "metadata": {},
   "source": [
    "L3 = O/P layer"
   ]
  },
  {
   "cell_type": "code",
   "execution_count": 21,
   "metadata": {},
   "outputs": [],
   "source": [
    "model=Sequential([Dense(units=6,input_shape=(12,), activation='relu'),Dense(units=6, activation='relu'),Dense(units=1, activation='sigmoid')])"
   ]
  },
  {
   "cell_type": "markdown",
   "metadata": {},
   "source": [
    "#####  units : the number of neurons or nodes in the current layer (hidden layer)\n",
    "##### input_shape: the dimension of input, as X contains 12 feautres   \n",
    "##### activation for hidden layers : the activation function applied to each node. ”relu” stands for Rectified Linear\n"
   ]
  },
  {
   "cell_type": "markdown",
   "metadata": {},
   "source": [
    "##### output layer: Here we have a single output layer\n",
    "##### Sigmoid activation functions for  output layer : Because o/p is binary(0/1) , i.e Yes or NO"
   ]
  },
  {
   "cell_type": "code",
   "execution_count": 22,
   "metadata": {},
   "outputs": [
    {
     "name": "stdout",
     "output_type": "stream",
     "text": [
      "Model: \"sequential_1\"\n",
      "_________________________________________________________________\n",
      "Layer (type)                 Output Shape              Param #   \n",
      "=================================================================\n",
      "dense_1 (Dense)              (None, 6)                 78        \n",
      "_________________________________________________________________\n",
      "dense_2 (Dense)              (None, 6)                 42        \n",
      "_________________________________________________________________\n",
      "dense_3 (Dense)              (None, 1)                 7         \n",
      "=================================================================\n",
      "Total params: 127\n",
      "Trainable params: 127\n",
      "Non-trainable params: 0\n",
      "_________________________________________________________________\n"
     ]
    }
   ],
   "source": [
    "model.summary()"
   ]
  },
  {
   "cell_type": "code",
   "execution_count": 23,
   "metadata": {},
   "outputs": [],
   "source": [
    "## oops=Sequential([Dense(units=6,input_dim=12, activation='relu'),Dense(units=6, activation='relu'),Dense(units=1, activation='sigmoid')])"
   ]
  },
  {
   "cell_type": "code",
   "execution_count": 24,
   "metadata": {},
   "outputs": [],
   "source": [
    "## oops.summary()"
   ]
  },
  {
   "cell_type": "markdown",
   "metadata": {},
   "source": [
    "## Part 3 - Training the ANN"
   ]
  },
  {
   "cell_type": "markdown",
   "metadata": {},
   "source": [
    "### Compiling the ANN"
   ]
  },
  {
   "cell_type": "code",
   "execution_count": 25,
   "metadata": {},
   "outputs": [],
   "source": [
    "model.compile(optimizer='adam',loss='binary_crossentropy',metrics=['accuracy'])"
   ]
  },
  {
   "cell_type": "markdown",
   "metadata": {},
   "source": [
    "##### Optimizer : Adam optimizer can perfrom stochastic gradient - helps you adjust the weight of edges as you are doing the training"
   ]
  },
  {
   "cell_type": "markdown",
   "metadata": {},
   "source": [
    "##### Loss : to compute the difference b/w actual and predicted\n",
    "##### When predicting a binary outcome, the loss function should always be binary_crossentropy \n",
    "##### For prediction of an o/p having categorical values , use sparse_categorical_crossentropy "
   ]
  },
  {
   "cell_type": "markdown",
   "metadata": {},
   "source": [
    "##### Metrics: the metric used to measure the accuracy of the model"
   ]
  },
  {
   "cell_type": "markdown",
   "metadata": {},
   "source": [
    "### Training the ANN on the Training set"
   ]
  },
  {
   "cell_type": "code",
   "execution_count": 26,
   "metadata": {},
   "outputs": [
    {
     "data": {
      "text/plain": [
       "8000"
      ]
     },
     "execution_count": 26,
     "metadata": {},
     "output_type": "execute_result"
    }
   ],
   "source": [
    "len(X_train)"
   ]
  },
  {
   "cell_type": "markdown",
   "metadata": {},
   "source": [
    "Assume you have a dataset with 200 samples (rows of data) and you choose a batch size of 5 and 1,000 epochs.\n",
    "\n",
    "This means that the dataset will be divided into 40 batches, each with five samples. The model weights will be updated after each batch of five samples.\n",
    "\n",
    "This also means that one epoch will involve 40 batches or 40 updates to the model.\n",
    "\n",
    "With 1,000 epochs, the model will be exposed to or pass through the whole dataset 1,000 times. That is a total of 40,000 batches during the entire training process."
   ]
  },
  {
   "cell_type": "code",
   "execution_count": 28,
   "metadata": {},
   "outputs": [
    {
     "name": "stdout",
     "output_type": "stream",
     "text": [
      "Epoch 1/100\n",
      "8000/8000 [==============================] - 0s 54us/step - loss: 0.4804 - accuracy: 0.8016\n",
      "Epoch 2/100\n",
      "8000/8000 [==============================] - 0s 55us/step - loss: 0.4419 - accuracy: 0.8062\n",
      "Epoch 3/100\n",
      "8000/8000 [==============================] - 0s 53us/step - loss: 0.4258 - accuracy: 0.8130\n",
      "Epoch 4/100\n",
      "8000/8000 [==============================] - 0s 54us/step - loss: 0.4124 - accuracy: 0.8215\n",
      "Epoch 5/100\n",
      "8000/8000 [==============================] - 0s 52us/step - loss: 0.3997 - accuracy: 0.8284\n",
      "Epoch 6/100\n",
      "8000/8000 [==============================] - 0s 51us/step - loss: 0.3864 - accuracy: 0.8350\n",
      "Epoch 7/100\n",
      "8000/8000 [==============================] - 0s 53us/step - loss: 0.3746 - accuracy: 0.8429\n",
      "Epoch 8/100\n",
      "8000/8000 [==============================] - 0s 53us/step - loss: 0.3643 - accuracy: 0.8496\n",
      "Epoch 9/100\n",
      "8000/8000 [==============================] - 0s 52us/step - loss: 0.3571 - accuracy: 0.8530\n",
      "Epoch 10/100\n",
      "8000/8000 [==============================] - 0s 56us/step - loss: 0.3524 - accuracy: 0.8529\n",
      "Epoch 11/100\n",
      "8000/8000 [==============================] - 0s 56us/step - loss: 0.3493 - accuracy: 0.8555\n",
      "Epoch 12/100\n",
      "8000/8000 [==============================] - 0s 61us/step - loss: 0.3474 - accuracy: 0.8565\n",
      "Epoch 13/100\n",
      "8000/8000 [==============================] - 0s 51us/step - loss: 0.3461 - accuracy: 0.8564\n",
      "Epoch 14/100\n",
      "8000/8000 [==============================] - 0s 54us/step - loss: 0.3450 - accuracy: 0.8561\n",
      "Epoch 15/100\n",
      "8000/8000 [==============================] - 0s 54us/step - loss: 0.3435 - accuracy: 0.8589\n",
      "Epoch 16/100\n",
      "8000/8000 [==============================] - 1s 76us/step - loss: 0.3432 - accuracy: 0.8606\n",
      "Epoch 17/100\n",
      "8000/8000 [==============================] - 0s 58us/step - loss: 0.3425 - accuracy: 0.8614\n",
      "Epoch 18/100\n",
      "8000/8000 [==============================] - 1s 68us/step - loss: 0.3418 - accuracy: 0.8610\n",
      "Epoch 19/100\n",
      "8000/8000 [==============================] - 0s 55us/step - loss: 0.3415 - accuracy: 0.8619\n",
      "Epoch 20/100\n",
      "8000/8000 [==============================] - 0s 50us/step - loss: 0.3409 - accuracy: 0.8626\n",
      "Epoch 21/100\n",
      "8000/8000 [==============================] - 0s 57us/step - loss: 0.3411 - accuracy: 0.8610\n",
      "Epoch 22/100\n",
      "8000/8000 [==============================] - 0s 62us/step - loss: 0.3404 - accuracy: 0.8621\n",
      "Epoch 23/100\n",
      "8000/8000 [==============================] - 0s 62us/step - loss: 0.3404 - accuracy: 0.8625\n",
      "Epoch 24/100\n",
      "8000/8000 [==============================] - 0s 55us/step - loss: 0.3401 - accuracy: 0.8641\n",
      "Epoch 25/100\n",
      "8000/8000 [==============================] - 0s 54us/step - loss: 0.3399 - accuracy: 0.8627\n",
      "Epoch 26/100\n",
      "8000/8000 [==============================] - 0s 53us/step - loss: 0.3394 - accuracy: 0.8635\n",
      "Epoch 27/100\n",
      "8000/8000 [==============================] - 0s 60us/step - loss: 0.3393 - accuracy: 0.8624\n",
      "Epoch 28/100\n",
      "8000/8000 [==============================] - 0s 60us/step - loss: 0.3388 - accuracy: 0.8625\n",
      "Epoch 29/100\n",
      "8000/8000 [==============================] - 0s 59us/step - loss: 0.3389 - accuracy: 0.8619\n",
      "Epoch 30/100\n",
      "8000/8000 [==============================] - 0s 54us/step - loss: 0.3389 - accuracy: 0.8629\n",
      "Epoch 31/100\n",
      "8000/8000 [==============================] - 0s 55us/step - loss: 0.3387 - accuracy: 0.8629\n",
      "Epoch 32/100\n",
      "8000/8000 [==============================] - 0s 60us/step - loss: 0.3386 - accuracy: 0.8620\n",
      "Epoch 33/100\n",
      "8000/8000 [==============================] - 0s 62us/step - loss: 0.3384 - accuracy: 0.8640\n",
      "Epoch 34/100\n",
      "8000/8000 [==============================] - 0s 61us/step - loss: 0.3377 - accuracy: 0.8635\n",
      "Epoch 35/100\n",
      "8000/8000 [==============================] - 0s 57us/step - loss: 0.3380 - accuracy: 0.8636\n",
      "Epoch 36/100\n",
      "8000/8000 [==============================] - 0s 60us/step - loss: 0.3373 - accuracy: 0.8636\n",
      "Epoch 37/100\n",
      "8000/8000 [==============================] - 0s 58us/step - loss: 0.3377 - accuracy: 0.8637\n",
      "Epoch 38/100\n",
      "8000/8000 [==============================] - 0s 53us/step - loss: 0.3373 - accuracy: 0.8639\n",
      "Epoch 39/100\n",
      "8000/8000 [==============================] - 0s 52us/step - loss: 0.3372 - accuracy: 0.8630\n",
      "Epoch 40/100\n",
      "8000/8000 [==============================] - 0s 54us/step - loss: 0.3370 - accuracy: 0.8629\n",
      "Epoch 41/100\n",
      "8000/8000 [==============================] - 0s 56us/step - loss: 0.3369 - accuracy: 0.8625\n",
      "Epoch 42/100\n",
      "8000/8000 [==============================] - 0s 55us/step - loss: 0.3367 - accuracy: 0.8636\n",
      "Epoch 43/100\n",
      "8000/8000 [==============================] - 0s 54us/step - loss: 0.3358 - accuracy: 0.8618\n",
      "Epoch 44/100\n",
      "8000/8000 [==============================] - 0s 54us/step - loss: 0.3365 - accuracy: 0.8620\n",
      "Epoch 45/100\n",
      "8000/8000 [==============================] - 0s 54us/step - loss: 0.3368 - accuracy: 0.8630\n",
      "Epoch 46/100\n",
      "8000/8000 [==============================] - 0s 61us/step - loss: 0.3362 - accuracy: 0.8631\n",
      "Epoch 47/100\n",
      "8000/8000 [==============================] - 0s 54us/step - loss: 0.3356 - accuracy: 0.8643\n",
      "Epoch 48/100\n",
      "8000/8000 [==============================] - 0s 56us/step - loss: 0.3360 - accuracy: 0.8631\n",
      "Epoch 49/100\n",
      "8000/8000 [==============================] - 0s 61us/step - loss: 0.3359 - accuracy: 0.8625\n",
      "Epoch 50/100\n",
      "8000/8000 [==============================] - 0s 61us/step - loss: 0.3361 - accuracy: 0.8630\n",
      "Epoch 51/100\n",
      "8000/8000 [==============================] - 0s 60us/step - loss: 0.3356 - accuracy: 0.8641\n",
      "Epoch 52/100\n",
      "8000/8000 [==============================] - 0s 54us/step - loss: 0.3359 - accuracy: 0.8630\n",
      "Epoch 53/100\n",
      "8000/8000 [==============================] - 0s 53us/step - loss: 0.3361 - accuracy: 0.8637\n",
      "Epoch 54/100\n",
      "8000/8000 [==============================] - 0s 54us/step - loss: 0.3358 - accuracy: 0.8624\n",
      "Epoch 55/100\n",
      "8000/8000 [==============================] - 0s 55us/step - loss: 0.3353 - accuracy: 0.8625\n",
      "Epoch 56/100\n",
      "8000/8000 [==============================] - 0s 60us/step - loss: 0.3350 - accuracy: 0.8631\n",
      "Epoch 57/100\n",
      "8000/8000 [==============================] - 0s 59us/step - loss: 0.3355 - accuracy: 0.8626\n",
      "Epoch 58/100\n",
      "8000/8000 [==============================] - 0s 60us/step - loss: 0.3354 - accuracy: 0.8626\n",
      "Epoch 59/100\n",
      "8000/8000 [==============================] - 0s 57us/step - loss: 0.3352 - accuracy: 0.8633\n",
      "Epoch 60/100\n",
      "8000/8000 [==============================] - 0s 54us/step - loss: 0.3349 - accuracy: 0.8631\n",
      "Epoch 61/100\n",
      "8000/8000 [==============================] - 0s 59us/step - loss: 0.3353 - accuracy: 0.8631\n",
      "Epoch 62/100\n",
      "8000/8000 [==============================] - 0s 54us/step - loss: 0.3348 - accuracy: 0.8635\n",
      "Epoch 63/100\n",
      "8000/8000 [==============================] - 0s 56us/step - loss: 0.3349 - accuracy: 0.8620\n",
      "Epoch 64/100\n",
      "8000/8000 [==============================] - 0s 55us/step - loss: 0.3349 - accuracy: 0.8630\n",
      "Epoch 65/100\n",
      "8000/8000 [==============================] - 0s 53us/step - loss: 0.3343 - accuracy: 0.8637\n",
      "Epoch 66/100\n",
      "8000/8000 [==============================] - 0s 53us/step - loss: 0.3346 - accuracy: 0.8621\n",
      "Epoch 67/100\n",
      "8000/8000 [==============================] - 0s 58us/step - loss: 0.3345 - accuracy: 0.8630\n",
      "Epoch 68/100\n",
      "8000/8000 [==============================] - 0s 55us/step - loss: 0.3345 - accuracy: 0.8622\n",
      "Epoch 69/100\n",
      "8000/8000 [==============================] - 0s 58us/step - loss: 0.3341 - accuracy: 0.8621\n",
      "Epoch 70/100\n",
      "8000/8000 [==============================] - 0s 53us/step - loss: 0.3345 - accuracy: 0.8634\n",
      "Epoch 71/100\n",
      "8000/8000 [==============================] - 0s 54us/step - loss: 0.3344 - accuracy: 0.8630\n",
      "Epoch 72/100\n",
      "8000/8000 [==============================] - 0s 57us/step - loss: 0.3342 - accuracy: 0.8633\n",
      "Epoch 73/100\n",
      "8000/8000 [==============================] - 0s 55us/step - loss: 0.3338 - accuracy: 0.8643\n",
      "Epoch 74/100\n",
      "8000/8000 [==============================] - 0s 56us/step - loss: 0.3337 - accuracy: 0.8627\n",
      "Epoch 75/100\n",
      "8000/8000 [==============================] - 0s 56us/step - loss: 0.3340 - accuracy: 0.8646 0s - loss: 0.3683 - \n",
      "Epoch 76/100\n",
      "8000/8000 [==============================] - 0s 52us/step - loss: 0.3340 - accuracy: 0.8621\n",
      "Epoch 77/100\n",
      "8000/8000 [==============================] - 1s 72us/step - loss: 0.3342 - accuracy: 0.8646\n",
      "Epoch 78/100\n",
      "8000/8000 [==============================] - 0s 56us/step - loss: 0.3336 - accuracy: 0.8626\n",
      "Epoch 79/100\n",
      "8000/8000 [==============================] - 0s 55us/step - loss: 0.3340 - accuracy: 0.8635\n",
      "Epoch 80/100\n",
      "8000/8000 [==============================] - 0s 56us/step - loss: 0.3338 - accuracy: 0.8654\n",
      "Epoch 81/100\n",
      "8000/8000 [==============================] - 0s 61us/step - loss: 0.3335 - accuracy: 0.8639\n",
      "Epoch 82/100\n",
      "8000/8000 [==============================] - 1s 68us/step - loss: 0.3334 - accuracy: 0.8641\n",
      "Epoch 83/100\n",
      "8000/8000 [==============================] - 0s 56us/step - loss: 0.3337 - accuracy: 0.8629\n",
      "Epoch 84/100\n",
      "8000/8000 [==============================] - 0s 56us/step - loss: 0.3337 - accuracy: 0.8620\n",
      "Epoch 85/100\n",
      "8000/8000 [==============================] - 0s 52us/step - loss: 0.3336 - accuracy: 0.8633\n",
      "Epoch 86/100\n",
      "8000/8000 [==============================] - 0s 49us/step - loss: 0.3338 - accuracy: 0.8635\n",
      "Epoch 87/100\n",
      "8000/8000 [==============================] - 0s 52us/step - loss: 0.3335 - accuracy: 0.8630\n",
      "Epoch 88/100\n",
      "8000/8000 [==============================] - 0s 58us/step - loss: 0.3332 - accuracy: 0.8635\n",
      "Epoch 89/100\n",
      "8000/8000 [==============================] - 0s 50us/step - loss: 0.3330 - accuracy: 0.8646\n",
      "Epoch 90/100\n",
      "8000/8000 [==============================] - 0s 52us/step - loss: 0.3338 - accuracy: 0.8633\n",
      "Epoch 91/100\n",
      "8000/8000 [==============================] - 0s 50us/step - loss: 0.3332 - accuracy: 0.8639\n",
      "Epoch 92/100\n",
      "8000/8000 [==============================] - 0s 52us/step - loss: 0.3332 - accuracy: 0.8643\n",
      "Epoch 93/100\n",
      "8000/8000 [==============================] - 0s 49us/step - loss: 0.3330 - accuracy: 0.8636\n",
      "Epoch 94/100\n",
      "8000/8000 [==============================] - 0s 50us/step - loss: 0.3331 - accuracy: 0.8631\n",
      "Epoch 95/100\n",
      "8000/8000 [==============================] - 0s 53us/step - loss: 0.3332 - accuracy: 0.8640\n",
      "Epoch 96/100\n",
      "8000/8000 [==============================] - 0s 48us/step - loss: 0.3331 - accuracy: 0.8639\n",
      "Epoch 97/100\n",
      "8000/8000 [==============================] - 0s 52us/step - loss: 0.3331 - accuracy: 0.8627\n",
      "Epoch 98/100\n",
      "8000/8000 [==============================] - 0s 49us/step - loss: 0.3327 - accuracy: 0.8643\n",
      "Epoch 99/100\n",
      "8000/8000 [==============================] - 0s 54us/step - loss: 0.3332 - accuracy: 0.8640\n",
      "Epoch 100/100\n",
      "8000/8000 [==============================] - 0s 50us/step - loss: 0.3330 - accuracy: 0.8629\n"
     ]
    },
    {
     "data": {
      "text/plain": [
       "<keras.callbacks.callbacks.History at 0x2639dcdfdd8>"
      ]
     },
     "execution_count": 28,
     "metadata": {},
     "output_type": "execute_result"
    }
   ],
   "source": [
    "model.fit(X_train, y_train, batch_size = 32, epochs = 100) # classic value of batchsize chosen is 32"
   ]
  },
  {
   "cell_type": "markdown",
   "metadata": {},
   "source": [
    "## Part 4 - Making the predictions and evaluating the model"
   ]
  },
  {
   "cell_type": "markdown",
   "metadata": {},
   "source": [
    "### Predicting the result of a single observation"
   ]
  },
  {
   "cell_type": "markdown",
   "metadata": {},
   "source": [
    "Use our ANN model to predict if the customer with the following informations will leave the bank: \n",
    "\n",
    "Geography: France\n",
    "\n",
    "Credit Score: 600\n",
    "\n",
    "Gender: Male\n",
    "\n",
    "Age: 40 years old\n",
    "\n",
    "Tenure: 3 years\n",
    "\n",
    "Balance: \\$ 60000\n",
    "\n",
    "Number of Products: 2\n",
    "\n",
    "Does this customer have a credit card ? Yes\n",
    "\n",
    "Is this customer an Active Member: Yes\n",
    "\n",
    "Estimated Salary: \\$ 50000\n",
    "\n",
    "So, should we say goodbye to that customer ?"
   ]
  },
  {
   "cell_type": "markdown",
   "metadata": {},
   "source": [
    "Exit: 1 : Yes \n",
    "Exit: 0 : No"
   ]
  },
  {
   "cell_type": "markdown",
   "metadata": {},
   "source": [
    "##### Solution:"
   ]
  },
  {
   "cell_type": "code",
   "execution_count": 30,
   "metadata": {},
   "outputs": [
    {
     "data": {
      "text/plain": [
       "array([[0.03603366]], dtype=float32)"
      ]
     },
     "execution_count": 30,
     "metadata": {},
     "output_type": "execute_result"
    }
   ],
   "source": [
    "model.predict(sc.transform([[1,0,0,600,1,40,3,6000,2,1,1,50000]]))"
   ]
  },
  {
   "cell_type": "markdown",
   "metadata": {},
   "source": [
    "the o/p will always will come in probability whether the customer will stay or leave.\n",
    "\n",
    "\n",
    "In this case, it shows 0.03 prob that the customer will leave"
   ]
  },
  {
   "cell_type": "code",
   "execution_count": 32,
   "metadata": {},
   "outputs": [
    {
     "name": "stdout",
     "output_type": "stream",
     "text": [
      "[[False]]\n"
     ]
    }
   ],
   "source": [
    "print(model.predict(sc.transform([[1,0,0,600,1,40,3,6000,2,1,1,50000]]))>0.5)"
   ]
  },
  {
   "cell_type": "markdown",
   "metadata": {},
   "source": [
    "Therefore, our ANN model predicts that this customer stays in the bank!\n",
    "\n",
    "**Important note 1:** Notice that the values of the features were all input in a double pair of square brackets. That's because the \"predict\" method always expects a 2D array as the format of its inputs. And putting our values into a double pair of square brackets makes the input exactly a 2D array.\n",
    "\n",
    "**Important note 2:** Notice also that the \"France\" country was not input as a string in the last column but as \"1, 0, 0\" in the first three columns. That's because of course the predict method expects the one-hot-encoded values of the state, and as we see in the first row of the matrix of features X, \"France\" was encoded as \"1, 0, 0\". And be careful to include these values in the first three columns, because the dummy variables are always created in the first columns."
   ]
  },
  {
   "cell_type": "markdown",
   "metadata": {},
   "source": []
  },
  {
   "cell_type": "markdown",
   "metadata": {},
   "source": []
  },
  {
   "cell_type": "markdown",
   "metadata": {},
   "source": [
    "# Score"
   ]
  },
  {
   "cell_type": "code",
   "execution_count": 80,
   "metadata": {},
   "outputs": [
    {
     "data": {
      "text/plain": [
       "array([[0.28075057],\n",
       "       [0.41050506],\n",
       "       [0.16406044],\n",
       "       ...,\n",
       "       [0.16991383],\n",
       "       [0.15520525],\n",
       "       [0.29108447]], dtype=float32)"
      ]
     },
     "execution_count": 80,
     "metadata": {},
     "output_type": "execute_result"
    }
   ],
   "source": [
    "y_pred = model.predict(X_test)\n",
    "y_pred"
   ]
  },
  {
   "cell_type": "code",
   "execution_count": 81,
   "metadata": {},
   "outputs": [],
   "source": [
    "Predcited_Y=[]\n",
    "for each in y_pred.flatten():\n",
    "    if each > 0.5:\n",
    "        Predcited_Y.append(1)\n",
    "    else:\n",
    "        Predcited_Y.append(0)"
   ]
  },
  {
   "cell_type": "code",
   "execution_count": 82,
   "metadata": {},
   "outputs": [
    {
     "data": {
      "text/plain": [
       "[0, 0, 0, 0, 0, 1]"
      ]
     },
     "execution_count": 82,
     "metadata": {},
     "output_type": "execute_result"
    }
   ],
   "source": [
    "M[:6]"
   ]
  },
  {
   "cell_type": "code",
   "execution_count": 83,
   "metadata": {},
   "outputs": [
    {
     "name": "stdout",
     "output_type": "stream",
     "text": [
      "<class 'list'>\n",
      "<class 'numpy.ndarray'>\n"
     ]
    }
   ],
   "source": [
    "print(type(Predcited_Y))\n",
    "print(type(y_test))"
   ]
  },
  {
   "cell_type": "code",
   "execution_count": 84,
   "metadata": {},
   "outputs": [],
   "source": [
    "comparison=pd.DataFrame({\n",
    "    'Predicted' :np.array(Predcited_Y),\n",
    "    'Actual'  : y_test.flatten()\n",
    "})"
   ]
  },
  {
   "cell_type": "code",
   "execution_count": 85,
   "metadata": {},
   "outputs": [
    {
     "data": {
      "text/html": [
       "<div>\n",
       "<style scoped>\n",
       "    .dataframe tbody tr th:only-of-type {\n",
       "        vertical-align: middle;\n",
       "    }\n",
       "\n",
       "    .dataframe tbody tr th {\n",
       "        vertical-align: top;\n",
       "    }\n",
       "\n",
       "    .dataframe thead th {\n",
       "        text-align: right;\n",
       "    }\n",
       "</style>\n",
       "<table border=\"1\" class=\"dataframe\">\n",
       "  <thead>\n",
       "    <tr style=\"text-align: right;\">\n",
       "      <th></th>\n",
       "      <th>Predicted</th>\n",
       "      <th>Actual</th>\n",
       "    </tr>\n",
       "  </thead>\n",
       "  <tbody>\n",
       "    <tr>\n",
       "      <th>0</th>\n",
       "      <td>0</td>\n",
       "      <td>0</td>\n",
       "    </tr>\n",
       "    <tr>\n",
       "      <th>1</th>\n",
       "      <td>0</td>\n",
       "      <td>1</td>\n",
       "    </tr>\n",
       "    <tr>\n",
       "      <th>2</th>\n",
       "      <td>0</td>\n",
       "      <td>0</td>\n",
       "    </tr>\n",
       "    <tr>\n",
       "      <th>3</th>\n",
       "      <td>0</td>\n",
       "      <td>0</td>\n",
       "    </tr>\n",
       "    <tr>\n",
       "      <th>4</th>\n",
       "      <td>0</td>\n",
       "      <td>0</td>\n",
       "    </tr>\n",
       "    <tr>\n",
       "      <th>5</th>\n",
       "      <td>1</td>\n",
       "      <td>1</td>\n",
       "    </tr>\n",
       "    <tr>\n",
       "      <th>6</th>\n",
       "      <td>0</td>\n",
       "      <td>0</td>\n",
       "    </tr>\n",
       "    <tr>\n",
       "      <th>7</th>\n",
       "      <td>0</td>\n",
       "      <td>0</td>\n",
       "    </tr>\n",
       "    <tr>\n",
       "      <th>8</th>\n",
       "      <td>0</td>\n",
       "      <td>1</td>\n",
       "    </tr>\n",
       "    <tr>\n",
       "      <th>9</th>\n",
       "      <td>1</td>\n",
       "      <td>1</td>\n",
       "    </tr>\n",
       "  </tbody>\n",
       "</table>\n",
       "</div>"
      ],
      "text/plain": [
       "   Predicted  Actual\n",
       "0          0       0\n",
       "1          0       1\n",
       "2          0       0\n",
       "3          0       0\n",
       "4          0       0\n",
       "5          1       1\n",
       "6          0       0\n",
       "7          0       0\n",
       "8          0       1\n",
       "9          1       1"
      ]
     },
     "execution_count": 85,
     "metadata": {},
     "output_type": "execute_result"
    }
   ],
   "source": [
    "comparison.head(10)"
   ]
  },
  {
   "cell_type": "code",
   "execution_count": 86,
   "metadata": {},
   "outputs": [
    {
     "data": {
      "text/plain": [
       "0.8605"
      ]
     },
     "execution_count": 86,
     "metadata": {},
     "output_type": "execute_result"
    }
   ],
   "source": [
    "from sklearn.metrics import accuracy_score\n",
    "accuracy_score(y_test,Predcited_Y)"
   ]
  }
 ],
 "metadata": {
  "kernelspec": {
   "display_name": "Python 3",
   "language": "python",
   "name": "python3"
  },
  "language_info": {
   "codemirror_mode": {
    "name": "ipython",
    "version": 3
   },
   "file_extension": ".py",
   "mimetype": "text/x-python",
   "name": "python",
   "nbconvert_exporter": "python",
   "pygments_lexer": "ipython3",
   "version": "3.7.3"
  }
 },
 "nbformat": 4,
 "nbformat_minor": 2
}
