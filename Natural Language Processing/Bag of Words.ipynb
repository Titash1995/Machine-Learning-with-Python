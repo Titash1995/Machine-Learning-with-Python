{
 "cells": [
  {
   "cell_type": "code",
   "execution_count": 42,
   "metadata": {},
   "outputs": [
    {
     "name": "stdout",
     "output_type": "stream",
     "text": [
      "['I was lucky to have worked with all three of them closely.', 'My name is Titash\\n    and I work in Cognizant']\n"
     ]
    }
   ],
   "source": [
    "import nltk\n",
    "aa=\"\"\"I was lucky to have worked with all three of them closely. My name is Titash\n",
    "    and I work in Cognizant\"\"\"\n",
    "b=nltk.sent_tokenize(aa)\n",
    "print(b)"
   ]
  },
  {
   "cell_type": "code",
   "execution_count": 43,
   "metadata": {},
   "outputs": [],
   "source": [
    "paragraph = \"\"\"I have three visions for India. In 3000 years of our history, people from all over \n",
    "               the world have come and invaded us, captured our lands, conquered our minds. \n",
    "               From Alexander onwards, the Greeks, the Turks, the Moguls, the Portuguese, the British,\n",
    "               the French, the Dutch, all of them came and looted us, took over what was ours. \n",
    "               Yet we have not done this to any other nation. We have not conquered anyone. \n",
    "               We have not grabbed their land, their culture, \n",
    "               their history and tried to enforce our way of life on them. \n",
    "               Why? Because we respect the freedom of others.That is why my \n",
    "               first vision is that of freedom. I believe that India got its first vision of \n",
    "               this in 1857, when we started the War of Independence. It is this freedom that\n",
    "               we must protect and nurture and build on. If we are not free, no one will respect us.\n",
    "               My second vision for India’s development. For fifty years we have been a developing nation.\n",
    "               It is time we see ourselves as a developed nation. We are among the top 5 nations of the world\n",
    "               in terms of GDP. We have a 10 percent growth rate in most areas. Our poverty levels are falling.\n",
    "               Our achievements are being globally recognised today. Yet we lack the self-confidence to\n",
    "               see ourselves as a developed nation, self-reliant and self-assured. Isn’t this incorrect?\n",
    "               I have a third vision. India must stand up to the world. Because I believe that unless India \n",
    "               stands up to the world, no one will respect us. Only strength respects strength. We must be \n",
    "               strong not only as a military power but also as an economic power. Both must go hand-in-hand. \n",
    "               My good fortune was to have worked with three great minds. Dr. Vikram Sarabhai of the Dept. of \n",
    "               space, Professor Satish Dhawan, who succeeded him and Dr. Brahm Prakash, father of nuclear material.\n",
    "               I was lucky to have worked with all three of them closely and consider this the great opportunity of my life. \n",
    "               I see four milestones in my career\"\"\""
   ]
  },
  {
   "cell_type": "code",
   "execution_count": 72,
   "metadata": {},
   "outputs": [],
   "source": [
    "import re\n",
    "from nltk.corpus import stopwords\n",
    "from nltk.stem.porter import PorterStemmer\n",
    "from nltk.stem import WordNetLemmatizer"
   ]
  },
  {
   "cell_type": "markdown",
   "metadata": {},
   "source": [
    "# STEP BY STEP ANALYSIS"
   ]
  },
  {
   "cell_type": "markdown",
   "metadata": {},
   "source": [
    "#### Removing punctaion and applying lowercase to *each sentence*"
   ]
  },
  {
   "cell_type": "code",
   "execution_count": 77,
   "metadata": {
    "scrolled": false
   },
   "outputs": [
    {
     "name": "stdout",
     "output_type": "stream",
     "text": [
      "i have three visions for india \n",
      "in      years of our history  people from all over                 the world have come and invaded us  captured our lands  conquered our minds \n",
      "from alexander onwards  the greeks  the turks  the moguls  the portuguese  the british                 the french  the dutch  all of them came and looted us  took over what was ours \n",
      "yet we have not done this to any other nation \n",
      "we have not conquered anyone \n",
      "we have not grabbed their land  their culture                  their history and tried to enforce our way of life on them \n",
      "why \n",
      "because we respect the freedom of others that is why my                 first vision is that of freedom \n",
      "i believe that india got its first vision of                 this in       when we started the war of independence \n",
      "it is this freedom that                we must protect and nurture and build on \n",
      "if we are not free  no one will respect us \n",
      "my second vision for india s development \n",
      "for fifty years we have been a developing nation \n",
      "it is time we see ourselves as a developed nation \n",
      "we are among the top   nations of the world                in terms of gdp \n",
      "we have a    percent growth rate in most areas \n",
      "our poverty levels are falling \n",
      "our achievements are being globally recognised today \n",
      "yet we lack the self confidence to                see ourselves as a developed nation  self reliant and self assured \n",
      "isn t this incorrect \n",
      "i have a third vision \n",
      "india must stand up to the world \n",
      "because i believe that unless india                 stands up to the world  no one will respect us \n",
      "only strength respects strength \n",
      "we must be                 strong not only as a military power but also as an economic power \n",
      "both must go hand in hand \n",
      "my good fortune was to have worked with three great minds \n",
      "dr  vikram sarabhai of the dept \n",
      "of                 space  professor satish dhawan  who succeeded him and dr  brahm prakash  father of nuclear material \n",
      "i was lucky to have worked with all three of them closely and consider this the great opportunity of my life \n",
      "i see four milestones in my career\n"
     ]
    }
   ],
   "source": [
    "ps = PorterStemmer()\n",
    "wordnet=WordNetLemmatizer()\n",
    "sentences = nltk.sent_tokenize(paragraph)\n",
    "corpus = []\n",
    "for i in range(len(sentences)):\n",
    "    review = re.sub('[^a-zA-Z]', ' ', sentences[i])\n",
    "    review = review.lower()\n",
    "    print(review)"
   ]
  },
  {
   "cell_type": "markdown",
   "metadata": {},
   "source": [
    "#### Splitting each sentence to a list:"
   ]
  },
  {
   "cell_type": "code",
   "execution_count": 78,
   "metadata": {
    "scrolled": true
   },
   "outputs": [
    {
     "name": "stdout",
     "output_type": "stream",
     "text": [
      "['i', 'have', 'three', 'visions', 'for', 'india']\n",
      "['in', 'years', 'of', 'our', 'history', 'people', 'from', 'all', 'over', 'the', 'world', 'have', 'come', 'and', 'invaded', 'us', 'captured', 'our', 'lands', 'conquered', 'our', 'minds']\n",
      "['from', 'alexander', 'onwards', 'the', 'greeks', 'the', 'turks', 'the', 'moguls', 'the', 'portuguese', 'the', 'british', 'the', 'french', 'the', 'dutch', 'all', 'of', 'them', 'came', 'and', 'looted', 'us', 'took', 'over', 'what', 'was', 'ours']\n",
      "['yet', 'we', 'have', 'not', 'done', 'this', 'to', 'any', 'other', 'nation']\n",
      "['we', 'have', 'not', 'conquered', 'anyone']\n",
      "['we', 'have', 'not', 'grabbed', 'their', 'land', 'their', 'culture', 'their', 'history', 'and', 'tried', 'to', 'enforce', 'our', 'way', 'of', 'life', 'on', 'them']\n",
      "['why']\n",
      "['because', 'we', 'respect', 'the', 'freedom', 'of', 'others', 'that', 'is', 'why', 'my', 'first', 'vision', 'is', 'that', 'of', 'freedom']\n",
      "['i', 'believe', 'that', 'india', 'got', 'its', 'first', 'vision', 'of', 'this', 'in', 'when', 'we', 'started', 'the', 'war', 'of', 'independence']\n",
      "['it', 'is', 'this', 'freedom', 'that', 'we', 'must', 'protect', 'and', 'nurture', 'and', 'build', 'on']\n",
      "['if', 'we', 'are', 'not', 'free', 'no', 'one', 'will', 'respect', 'us']\n",
      "['my', 'second', 'vision', 'for', 'india', 's', 'development']\n",
      "['for', 'fifty', 'years', 'we', 'have', 'been', 'a', 'developing', 'nation']\n",
      "['it', 'is', 'time', 'we', 'see', 'ourselves', 'as', 'a', 'developed', 'nation']\n",
      "['we', 'are', 'among', 'the', 'top', 'nations', 'of', 'the', 'world', 'in', 'terms', 'of', 'gdp']\n",
      "['we', 'have', 'a', 'percent', 'growth', 'rate', 'in', 'most', 'areas']\n",
      "['our', 'poverty', 'levels', 'are', 'falling']\n",
      "['our', 'achievements', 'are', 'being', 'globally', 'recognised', 'today']\n",
      "['yet', 'we', 'lack', 'the', 'self', 'confidence', 'to', 'see', 'ourselves', 'as', 'a', 'developed', 'nation', 'self', 'reliant', 'and', 'self', 'assured']\n",
      "['isn', 't', 'this', 'incorrect']\n",
      "['i', 'have', 'a', 'third', 'vision']\n",
      "['india', 'must', 'stand', 'up', 'to', 'the', 'world']\n",
      "['because', 'i', 'believe', 'that', 'unless', 'india', 'stands', 'up', 'to', 'the', 'world', 'no', 'one', 'will', 'respect', 'us']\n",
      "['only', 'strength', 'respects', 'strength']\n",
      "['we', 'must', 'be', 'strong', 'not', 'only', 'as', 'a', 'military', 'power', 'but', 'also', 'as', 'an', 'economic', 'power']\n",
      "['both', 'must', 'go', 'hand', 'in', 'hand']\n",
      "['my', 'good', 'fortune', 'was', 'to', 'have', 'worked', 'with', 'three', 'great', 'minds']\n",
      "['dr', 'vikram', 'sarabhai', 'of', 'the', 'dept']\n",
      "['of', 'space', 'professor', 'satish', 'dhawan', 'who', 'succeeded', 'him', 'and', 'dr', 'brahm', 'prakash', 'father', 'of', 'nuclear', 'material']\n",
      "['i', 'was', 'lucky', 'to', 'have', 'worked', 'with', 'all', 'three', 'of', 'them', 'closely', 'and', 'consider', 'this', 'the', 'great', 'opportunity', 'of', 'my', 'life']\n",
      "['i', 'see', 'four', 'milestones', 'in', 'my', 'career']\n"
     ]
    }
   ],
   "source": [
    "ps = PorterStemmer()\n",
    "wordnet=WordNetLemmatizer()\n",
    "sentences = nltk.sent_tokenize(paragraph)\n",
    "corpus = []\n",
    "for i in range(len(sentences)):\n",
    "    review = re.sub('[^a-zA-Z]', ' ', sentences[i])\n",
    "    review = review.lower()\n",
    "    view=review.split()\n",
    "    print(view)"
   ]
  },
  {
   "cell_type": "markdown",
   "metadata": {},
   "source": [
    "#### stopwords check for each sentence"
   ]
  },
  {
   "cell_type": "code",
   "execution_count": 90,
   "metadata": {},
   "outputs": [
    {
     "name": "stdout",
     "output_type": "stream",
     "text": [
      "[['three', 'vision', 'india'], ['year', 'histori', 'peopl', 'world', 'come', 'invad', 'us', 'captur', 'land', 'conquer', 'mind'], ['alexand', 'onward', 'greek', 'turk', 'mogul', 'portugues', 'british', 'french', 'dutch', 'came', 'loot', 'us', 'took'], ['yet', 'done', 'nation'], ['conquer', 'anyon'], ['grab', 'land', 'cultur', 'histori', 'tri', 'enforc', 'way', 'life'], [], ['respect', 'freedom', 'other', 'first', 'vision', 'freedom'], ['believ', 'india', 'got', 'first', 'vision', 'start', 'war', 'independ'], ['freedom', 'must', 'protect', 'nurtur', 'build'], ['free', 'one', 'respect', 'us'], ['second', 'vision', 'india', 'develop'], ['fifti', 'year', 'develop', 'nation'], ['time', 'see', 'develop', 'nation'], ['among', 'top', 'nation', 'world', 'term', 'gdp'], ['percent', 'growth', 'rate', 'area'], ['poverti', 'level', 'fall'], ['achiev', 'global', 'recognis', 'today'], ['yet', 'lack', 'self', 'confid', 'see', 'develop', 'nation', 'self', 'reliant', 'self', 'assur'], ['incorrect'], ['third', 'vision'], ['india', 'must', 'stand', 'world'], ['believ', 'unless', 'india', 'stand', 'world', 'one', 'respect', 'us'], ['strength', 'respect', 'strength'], ['must', 'strong', 'militari', 'power', 'also', 'econom', 'power'], ['must', 'go', 'hand', 'hand'], ['good', 'fortun', 'work', 'three', 'great', 'mind'], ['dr', 'vikram', 'sarabhai', 'dept'], ['space', 'professor', 'satish', 'dhawan', 'succeed', 'dr', 'brahm', 'prakash', 'father', 'nuclear', 'materi'], ['lucki', 'work', 'three', 'close', 'consid', 'great', 'opportun', 'life'], ['see', 'four', 'mileston', 'career']]\n"
     ]
    }
   ],
   "source": [
    "ps = PorterStemmer()\n",
    "wordnet=WordNetLemmatizer()\n",
    "sentences = nltk.sent_tokenize(paragraph)\n",
    "final=[]\n",
    "corpus = []\n",
    "for i in range(len(sentences)):\n",
    "    review = re.sub('[^a-zA-Z]', ' ', sentences[i])\n",
    "    review = review.lower()\n",
    "    view=review.split()\n",
    "    no_stop_no_punc=[ps.stem(word) for word in view if not word in set(stopwords.words('english'))]\n",
    "    final.append(no_stop_no_punc)\n",
    "print(final)\n"
   ]
  },
  {
   "cell_type": "markdown",
   "metadata": {},
   "source": [
    "#### Iterate through final and joining every element of the inner list to with a space"
   ]
  },
  {
   "cell_type": "code",
   "execution_count": 84,
   "metadata": {},
   "outputs": [
    {
     "name": "stdout",
     "output_type": "stream",
     "text": [
      "three vision india\n",
      "year histori peopl world come invad us captur land conquer mind\n",
      "alexand onward greek turk mogul portugues british french dutch came loot us took\n",
      "yet done nation\n",
      "conquer anyon\n",
      "grab land cultur histori tri enforc way life\n",
      "\n",
      "respect freedom other first vision freedom\n",
      "believ india got first vision start war independ\n",
      "freedom must protect nurtur build\n",
      "free one respect us\n",
      "second vision india develop\n",
      "fifti year develop nation\n",
      "time see develop nation\n",
      "among top nation world term gdp\n",
      "percent growth rate area\n",
      "poverti level fall\n",
      "achiev global recognis today\n",
      "yet lack self confid see develop nation self reliant self assur\n",
      "incorrect\n",
      "third vision\n",
      "india must stand world\n",
      "believ unless india stand world one respect us\n",
      "strength respect strength\n",
      "must strong militari power also econom power\n",
      "must go hand hand\n",
      "good fortun work three great mind\n",
      "dr vikram sarabhai dept\n",
      "space professor satish dhawan succeed dr brahm prakash father nuclear materi\n",
      "lucki work three close consid great opportun life\n",
      "see four mileston career\n"
     ]
    }
   ],
   "source": [
    "ps = PorterStemmer()\n",
    "wordnet=WordNetLemmatizer()\n",
    "sentences = nltk.sent_tokenize(paragraph)\n",
    "final=[]\n",
    "corpus = []\n",
    "for i in range(len(sentences)):\n",
    "    review = re.sub('[^a-zA-Z]', ' ', sentences[i])\n",
    "    review = review.lower()\n",
    "    view=review.split()\n",
    "    no_stop_no_punc=[ps.stem(word) for word in view if not word in set(stopwords.words('english'))]\n",
    "    final.append(no_stop_no_punc)\n",
    "for each in final:\n",
    "    x=' '.join(each)\n",
    "    print(x)"
   ]
  },
  {
   "cell_type": "markdown",
   "metadata": {},
   "source": [
    "# Final Code"
   ]
  },
  {
   "cell_type": "code",
   "execution_count": 93,
   "metadata": {},
   "outputs": [
    {
     "name": "stdout",
     "output_type": "stream",
     "text": [
      "['three vision india', 'year histori peopl world come invad us captur land conquer mind', 'alexand onward greek turk mogul portugues british french dutch came loot us took', 'yet done nation', 'conquer anyon', 'grab land cultur histori tri enforc way life', '', 'respect freedom other first vision freedom', 'believ india got first vision start war independ', 'freedom must protect nurtur build', 'free one respect us', 'second vision india develop', 'fifti year develop nation', 'time see develop nation', 'among top nation world term gdp', 'percent growth rate area', 'poverti level fall', 'achiev global recognis today', 'yet lack self confid see develop nation self reliant self assur', 'incorrect', 'third vision', 'india must stand world', 'believ unless india stand world one respect us', 'strength respect strength', 'must strong militari power also econom power', 'must go hand hand', 'good fortun work three great mind', 'dr vikram sarabhai dept', 'space professor satish dhawan succeed dr brahm prakash father nuclear materi', 'lucki work three close consid great opportun life', 'see four mileston career']\n"
     ]
    }
   ],
   "source": [
    "ps = PorterStemmer()\n",
    "wordnet=WordNetLemmatizer()\n",
    "sentences = nltk.sent_tokenize(paragraph)\n",
    "final=[]\n",
    "corpus = []\n",
    "for i in range(len(sentences)):\n",
    "    review = re.sub('[^a-zA-Z]', ' ', sentences[i])\n",
    "    review = review.lower()\n",
    "    view=review.split()\n",
    "    no_stop_no_punc=[ps.stem(word) for word in view if not word in set(stopwords.words('english'))]\n",
    "    final.append(no_stop_no_punc)\n",
    "for each in final:\n",
    "    x=' '.join(each)\n",
    "    corpus.append(x)\n",
    "print(corpus)"
   ]
  },
  {
   "cell_type": "code",
   "execution_count": 99,
   "metadata": {},
   "outputs": [
    {
     "data": {
      "text/plain": [
       "31"
      ]
     },
     "execution_count": 99,
     "metadata": {},
     "output_type": "execute_result"
    }
   ],
   "source": [
    "len(corpus)"
   ]
  },
  {
   "cell_type": "markdown",
   "metadata": {},
   "source": [
    "### BAG OF WORDS\n"
   ]
  },
  {
   "cell_type": "code",
   "execution_count": 94,
   "metadata": {},
   "outputs": [],
   "source": [
    "from sklearn.feature_extraction.text import CountVectorizer\n",
    "ccv=CountVectorizer()"
   ]
  },
  {
   "cell_type": "code",
   "execution_count": 96,
   "metadata": {},
   "outputs": [],
   "source": [
    "XX=ccv.fit_transform(corpus)"
   ]
  },
  {
   "cell_type": "code",
   "execution_count": 97,
   "metadata": {},
   "outputs": [
    {
     "data": {
      "text/plain": [
       "scipy.sparse.csr.csr_matrix"
      ]
     },
     "execution_count": 97,
     "metadata": {},
     "output_type": "execute_result"
    }
   ],
   "source": [
    "type(XX)"
   ]
  },
  {
   "cell_type": "code",
   "execution_count": 98,
   "metadata": {},
   "outputs": [
    {
     "data": {
      "text/plain": [
       "array([[0, 0, 0, ..., 0, 0, 0],\n",
       "       [0, 0, 0, ..., 1, 1, 0],\n",
       "       [0, 1, 0, ..., 0, 0, 0],\n",
       "       ...,\n",
       "       [0, 0, 0, ..., 0, 0, 0],\n",
       "       [0, 0, 0, ..., 0, 0, 0],\n",
       "       [0, 0, 0, ..., 0, 0, 0]], dtype=int64)"
      ]
     },
     "execution_count": 98,
     "metadata": {},
     "output_type": "execute_result"
    }
   ],
   "source": [
    "XX.toarray()"
   ]
  },
  {
   "cell_type": "code",
   "execution_count": 100,
   "metadata": {},
   "outputs": [
    {
     "data": {
      "text/plain": [
       "(31, 113)"
      ]
     },
     "execution_count": 100,
     "metadata": {},
     "output_type": "execute_result"
    }
   ],
   "source": [
    "XX.shape"
   ]
  }
 ],
 "metadata": {
  "kernelspec": {
   "display_name": "Python 3",
   "language": "python",
   "name": "python3"
  },
  "language_info": {
   "codemirror_mode": {
    "name": "ipython",
    "version": 3
   },
   "file_extension": ".py",
   "mimetype": "text/x-python",
   "name": "python",
   "nbconvert_exporter": "python",
   "pygments_lexer": "ipython3",
   "version": "3.7.3"
  }
 },
 "nbformat": 4,
 "nbformat_minor": 2
}
