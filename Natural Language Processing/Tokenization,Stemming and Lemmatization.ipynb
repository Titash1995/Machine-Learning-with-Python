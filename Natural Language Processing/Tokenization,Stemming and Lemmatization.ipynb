{
 "cells": [
  {
   "cell_type": "markdown",
   "metadata": {},
   "source": [
    "## Tokenization"
   ]
  },
  {
   "cell_type": "markdown",
   "metadata": {},
   "source": [
    "In Python, tokenization basically refers to splitting up a larger body of text into smaller lines or words"
   ]
  },
  {
   "cell_type": "code",
   "execution_count": 29,
   "metadata": {},
   "outputs": [],
   "source": [
    "import nltk"
   ]
  },
  {
   "cell_type": "code",
   "execution_count": 30,
   "metadata": {},
   "outputs": [],
   "source": [
    "sentence_data = \"The First sentence is about Python. The Second: about Django. You can learn Python,Django and Data Ananlysis here.\""
   ]
  },
  {
   "cell_type": "markdown",
   "metadata": {},
   "source": [
    "Line Tokenzitaion"
   ]
  },
  {
   "cell_type": "code",
   "execution_count": 31,
   "metadata": {},
   "outputs": [],
   "source": [
    "line_tokens=nltk.sent_tokenize(sentence_data)"
   ]
  },
  {
   "cell_type": "code",
   "execution_count": 32,
   "metadata": {},
   "outputs": [
    {
     "data": {
      "text/plain": [
       "['The First sentence is about Python.',\n",
       " 'The Second: about Django.',\n",
       " 'You can learn Python,Django and Data Ananlysis here.']"
      ]
     },
     "execution_count": 32,
     "metadata": {},
     "output_type": "execute_result"
    }
   ],
   "source": [
    "line_tokens"
   ]
  },
  {
   "cell_type": "markdown",
   "metadata": {},
   "source": [
    "Word Tokenzitaion"
   ]
  },
  {
   "cell_type": "code",
   "execution_count": 33,
   "metadata": {},
   "outputs": [],
   "source": [
    "word_tokens=nltk.word_tokenize(sentence_data)"
   ]
  },
  {
   "cell_type": "code",
   "execution_count": 34,
   "metadata": {},
   "outputs": [
    {
     "data": {
      "text/plain": [
       "['The',\n",
       " 'First',\n",
       " 'sentence',\n",
       " 'is',\n",
       " 'about',\n",
       " 'Python',\n",
       " '.',\n",
       " 'The',\n",
       " 'Second',\n",
       " ':',\n",
       " 'about',\n",
       " 'Django',\n",
       " '.',\n",
       " 'You',\n",
       " 'can',\n",
       " 'learn',\n",
       " 'Python',\n",
       " ',',\n",
       " 'Django',\n",
       " 'and',\n",
       " 'Data',\n",
       " 'Ananlysis',\n",
       " 'here',\n",
       " '.']"
      ]
     },
     "execution_count": 34,
     "metadata": {},
     "output_type": "execute_result"
    }
   ],
   "source": [
    "word_tokens"
   ]
  },
  {
   "cell_type": "markdown",
   "metadata": {},
   "source": [
    "## Stemming"
   ]
  },
  {
   "cell_type": "markdown",
   "metadata": {},
   "source": [
    "In the areas of Natural Language Processing we come across situation where two or more words have a common root. For example, the three words - agreed, agreeing and agreeable have the same root word agree. A search involving any of these words should treat them as the same word which is the root word. So it becomes essential to link all the words into their root word. The NLTK library has methods to do this linking and give the output showing the root word."
   ]
  },
  {
   "cell_type": "code",
   "execution_count": 45,
   "metadata": {},
   "outputs": [],
   "source": [
    "from nltk.stem import PorterStemmer\n",
    "stemmer=PorterStemmer()\n",
    "from nltk.corpus import stopwords"
   ]
  },
  {
   "cell_type": "code",
   "execution_count": 46,
   "metadata": {
    "scrolled": false
   },
   "outputs": [
    {
     "data": {
      "text/plain": [
       "['i', 'me', 'my', 'myself', 'we', 'our', 'ours', 'ourselves', 'you', \"you're\"]"
      ]
     },
     "execution_count": 46,
     "metadata": {},
     "output_type": "execute_result"
    }
   ],
   "source": [
    "stopwords.words('english')[:10]"
   ]
  },
  {
   "cell_type": "code",
   "execution_count": 47,
   "metadata": {},
   "outputs": [],
   "source": [
    "filtered_sentence1 = []\n",
    "filtered_sentence2 = []"
   ]
  },
  {
   "cell_type": "code",
   "execution_count": 48,
   "metadata": {},
   "outputs": [],
   "source": [
    "example_sent = \"It originated from the idea that there are readers, who prefer learning new skills from the comforts of their drawing rooms.\""
   ]
  },
  {
   "cell_type": "markdown",
   "metadata": {},
   "source": [
    "Step 1: Tokenization"
   ]
  },
  {
   "cell_type": "code",
   "execution_count": 49,
   "metadata": {},
   "outputs": [],
   "source": [
    "word_tokens=nltk.word_tokenize(example_sent)"
   ]
  },
  {
   "cell_type": "markdown",
   "metadata": {},
   "source": [
    "Step 2: Getting rid of Stopwords"
   ]
  },
  {
   "cell_type": "code",
   "execution_count": 50,
   "metadata": {},
   "outputs": [
    {
     "name": "stdout",
     "output_type": "stream",
     "text": [
      "['It', 'originated', 'idea', 'readers', ',', 'prefer', 'learning', 'new', 'skills', 'comforts', 'drawing', 'rooms', '.']\n"
     ]
    }
   ],
   "source": [
    "for each in word_tokens:\n",
    "    if each not in stopwords.words('english'):\n",
    "        filtered_sentence1.append(each)\n",
    "print(filtered_sentence1)"
   ]
  },
  {
   "cell_type": "markdown",
   "metadata": {},
   "source": [
    "List Comprehension"
   ]
  },
  {
   "cell_type": "code",
   "execution_count": 51,
   "metadata": {},
   "outputs": [
    {
     "name": "stdout",
     "output_type": "stream",
     "text": [
      "['It', 'originated', 'idea', 'readers', ',', 'prefer', 'learning', 'new', 'skills', 'comforts', 'drawing', 'rooms', '.']\n"
     ]
    }
   ],
   "source": [
    "filtered_sentence2=[w for w in word_tokens if w not in stopwords.words('english')]\n",
    "print(filtered_sentence2) "
   ]
  },
  {
   "cell_type": "markdown",
   "metadata": {},
   "source": [
    "Removing punctuation"
   ]
  },
  {
   "cell_type": "code",
   "execution_count": 52,
   "metadata": {},
   "outputs": [],
   "source": [
    "import string"
   ]
  },
  {
   "cell_type": "code",
   "execution_count": 53,
   "metadata": {},
   "outputs": [
    {
     "data": {
      "text/plain": [
       "'!\"#$%&\\'()*+,-./:;<=>?@[\\\\]^_`{|}~'"
      ]
     },
     "execution_count": 53,
     "metadata": {},
     "output_type": "execute_result"
    }
   ],
   "source": [
    "string.punctuation"
   ]
  },
  {
   "cell_type": "code",
   "execution_count": 54,
   "metadata": {},
   "outputs": [],
   "source": [
    "nopunc=[each for each in filtered_sentence2 if each not in string.punctuation]"
   ]
  },
  {
   "cell_type": "code",
   "execution_count": 55,
   "metadata": {},
   "outputs": [
    {
     "name": "stdout",
     "output_type": "stream",
     "text": [
      "['It', 'originated', 'idea', 'readers', 'prefer', 'learning', 'new', 'skills', 'comforts', 'drawing', 'rooms']\n"
     ]
    }
   ],
   "source": [
    "print(nopunc)"
   ]
  },
  {
   "cell_type": "markdown",
   "metadata": {},
   "source": [
    "Stemming"
   ]
  },
  {
   "cell_type": "code",
   "execution_count": 56,
   "metadata": {},
   "outputs": [],
   "source": [
    "final1=[]\n",
    "for each in nopunc:\n",
    "    final1.append(stemmer.stem(each))"
   ]
  },
  {
   "cell_type": "code",
   "execution_count": 57,
   "metadata": {},
   "outputs": [
    {
     "name": "stdout",
     "output_type": "stream",
     "text": [
      "['It', 'origin', 'idea', 'reader', 'prefer', 'learn', 'new', 'skill', 'comfort', 'draw', 'room']\n"
     ]
    }
   ],
   "source": [
    "print(final1)"
   ]
  },
  {
   "cell_type": "code",
   "execution_count": 58,
   "metadata": {},
   "outputs": [],
   "source": [
    "final2 = ' '.join(final1)"
   ]
  },
  {
   "cell_type": "code",
   "execution_count": 59,
   "metadata": {},
   "outputs": [
    {
     "name": "stdout",
     "output_type": "stream",
     "text": [
      "It origin idea reader prefer learn new skill comfort draw room\n"
     ]
    }
   ],
   "source": [
    "print(final2)"
   ]
  },
  {
   "cell_type": "code",
   "execution_count": 60,
   "metadata": {},
   "outputs": [],
   "source": [
    "paragraph = \"\"\"I have three visions for India. In 3000 years of our history, people from all over \n",
    "               the world have come and invaded us, captured our lands, conquered our minds. \n",
    "               From Alexander onwards, the Greeks, the Turks, the Moguls, the Portuguese, the British,\n",
    "               the French, the Dutch, all of them came and looted us, took over what was ours. \n",
    "               Yet we have not done this to any other nation. We have not conquered anyone. \n",
    "               We have not grabbed their land, their culture, \n",
    "               their history and tried to enforce our way of life on them. \n",
    "               Why? Because we respect the freedom of others.That is why my \n",
    "               first vision is that of freedom. I believe that India got its first vision of \n",
    "               this in 1857, when we started the War of Independence. It is this freedom that\n",
    "               we must protect and nurture and build on. If we are not free, no one will respect us.\n",
    "               My second vision for India’s development. For fifty years we have been a developing nation.\n",
    "               It is time we see ourselves as a developed nation. We are among the top 5 nations of the world\n",
    "               in terms of GDP. We have a 10 percent growth rate in most areas. Our poverty levels are falling.\n",
    "               Our achievements are being globally recognised today. Yet we lack the self-confidence to\n",
    "               see ourselves as a developed nation, self-reliant and self-assured. Isn’t this incorrect?\n",
    "               I have a third vision. India must stand up to the world. Because I believe that unless India \n",
    "               stands up to the world, no one will respect us. Only strength respects strength. We must be \n",
    "               strong not only as a military power but also as an economic power. Both must go hand-in-hand. \n",
    "               My good fortune was to have worked with three great minds. Dr. Vikram Sarabhai of the Dept. of \n",
    "               space, Professor Satish Dhawan, who succeeded him and Dr. Brahm Prakash, father of nuclear material.\n",
    "               I was lucky to have worked with all three of them closely and consider this the great opportunity of my life. \n",
    "               I see four milestones in my career\"\"\""
   ]
  },
  {
   "cell_type": "code",
   "execution_count": 61,
   "metadata": {},
   "outputs": [],
   "source": [
    "a1=nltk.word_tokenize(paragraph)"
   ]
  },
  {
   "cell_type": "code",
   "execution_count": 62,
   "metadata": {},
   "outputs": [
    {
     "data": {
      "text/plain": [
       "399"
      ]
     },
     "execution_count": 62,
     "metadata": {},
     "output_type": "execute_result"
    }
   ],
   "source": [
    "len(a1)"
   ]
  },
  {
   "cell_type": "code",
   "execution_count": 63,
   "metadata": {},
   "outputs": [],
   "source": [
    "real=[c for c in a1 if c not in stopwords.words('english')]"
   ]
  },
  {
   "cell_type": "code",
   "execution_count": 64,
   "metadata": {},
   "outputs": [
    {
     "data": {
      "text/plain": [
       "245"
      ]
     },
     "execution_count": 64,
     "metadata": {},
     "output_type": "execute_result"
    }
   ],
   "source": [
    "len(real)"
   ]
  },
  {
   "cell_type": "code",
   "execution_count": 65,
   "metadata": {},
   "outputs": [],
   "source": [
    "nopunctuation=[c for c in real if c not in string.punctuation]\n"
   ]
  },
  {
   "cell_type": "code",
   "execution_count": 66,
   "metadata": {},
   "outputs": [
    {
     "data": {
      "text/plain": [
       "194"
      ]
     },
     "execution_count": 66,
     "metadata": {},
     "output_type": "execute_result"
    }
   ],
   "source": [
    "len(nopunctuation)"
   ]
  },
  {
   "cell_type": "code",
   "execution_count": 67,
   "metadata": {},
   "outputs": [
    {
     "name": "stdout",
     "output_type": "stream",
     "text": [
      "['I', 'three', 'visions', 'India', 'In', '3000', 'years', 'history', 'people', 'world', 'come', 'invaded', 'us', 'captured', 'lands', 'conquered', 'minds', 'From', 'Alexander', 'onwards', 'Greeks', 'Turks', 'Moguls', 'Portuguese', 'British', 'French', 'Dutch', 'came', 'looted', 'us', 'took', 'Yet', 'done', 'nation', 'We', 'conquered', 'anyone', 'We', 'grabbed', 'land', 'culture', 'history', 'tried', 'enforce', 'way', 'life', 'Why', 'Because', 'respect', 'freedom', 'others.That', 'first', 'vision', 'freedom', 'I', 'believe', 'India', 'got', 'first', 'vision', '1857', 'started', 'War', 'Independence', 'It', 'freedom', 'must', 'protect', 'nurture', 'build', 'If', 'free', 'one', 'respect', 'us', 'My', 'second', 'vision', 'India', '’', 'development', 'For', 'fifty', 'years', 'developing', 'nation', 'It', 'time', 'see', 'developed', 'nation', 'We', 'among', 'top', '5', 'nations', 'world', 'terms', 'GDP', 'We', '10', 'percent', 'growth', 'rate', 'areas', 'Our', 'poverty', 'levels', 'falling', 'Our', 'achievements', 'globally', 'recognised', 'today', 'Yet', 'lack', 'self-confidence', 'see', 'developed', 'nation', 'self-reliant', 'self-assured', 'Isn', '’', 'incorrect', 'I', 'third', 'vision', 'India', 'must', 'stand', 'world', 'Because', 'I', 'believe', 'unless', 'India', 'stands', 'world', 'one', 'respect', 'us', 'Only', 'strength', 'respects', 'strength', 'We', 'must', 'strong', 'military', 'power', 'also', 'economic', 'power', 'Both', 'must', 'go', 'hand-in-hand', 'My', 'good', 'fortune', 'worked', 'three', 'great', 'minds', 'Dr.', 'Vikram', 'Sarabhai', 'Dept', 'space', 'Professor', 'Satish', 'Dhawan', 'succeeded', 'Dr.', 'Brahm', 'Prakash', 'father', 'nuclear', 'material', 'I', 'lucky', 'worked', 'three', 'closely', 'consider', 'great', 'opportunity', 'life', 'I', 'see', 'four', 'milestones', 'career']\n"
     ]
    }
   ],
   "source": [
    "print(nopunctuation)"
   ]
  },
  {
   "cell_type": "code",
   "execution_count": 68,
   "metadata": {},
   "outputs": [],
   "source": [
    "out=[]\n",
    "for each in nopunctuation:\n",
    "    out.append(stemmer.stem(each))"
   ]
  },
  {
   "cell_type": "code",
   "execution_count": 69,
   "metadata": {},
   "outputs": [
    {
     "name": "stdout",
     "output_type": "stream",
     "text": [
      "['I', 'three', 'vision', 'india', 'In', '3000', 'year', 'histori', 'peopl', 'world', 'come', 'invad', 'us', 'captur', 'land', 'conquer', 'mind', 'from', 'alexand', 'onward', 'greek', 'turk', 'mogul', 'portugues', 'british', 'french', 'dutch', 'came', 'loot', 'us', 'took', 'yet', 'done', 'nation', 'We', 'conquer', 'anyon', 'We', 'grab', 'land', 'cultur', 'histori', 'tri', 'enforc', 'way', 'life', 'whi', 'becaus', 'respect', 'freedom', 'others.that', 'first', 'vision', 'freedom', 'I', 'believ', 'india', 'got', 'first', 'vision', '1857', 'start', 'war', 'independ', 'It', 'freedom', 'must', 'protect', 'nurtur', 'build', 'If', 'free', 'one', 'respect', 'us', 'My', 'second', 'vision', 'india', '’', 'develop', 'for', 'fifti', 'year', 'develop', 'nation', 'It', 'time', 'see', 'develop', 'nation', 'We', 'among', 'top', '5', 'nation', 'world', 'term', 'gdp', 'We', '10', 'percent', 'growth', 'rate', 'area', 'our', 'poverti', 'level', 'fall', 'our', 'achiev', 'global', 'recognis', 'today', 'yet', 'lack', 'self-confid', 'see', 'develop', 'nation', 'self-reli', 'self-assur', 'isn', '’', 'incorrect', 'I', 'third', 'vision', 'india', 'must', 'stand', 'world', 'becaus', 'I', 'believ', 'unless', 'india', 'stand', 'world', 'one', 'respect', 'us', 'onli', 'strength', 'respect', 'strength', 'We', 'must', 'strong', 'militari', 'power', 'also', 'econom', 'power', 'both', 'must', 'go', 'hand-in-hand', 'My', 'good', 'fortun', 'work', 'three', 'great', 'mind', 'dr.', 'vikram', 'sarabhai', 'dept', 'space', 'professor', 'satish', 'dhawan', 'succeed', 'dr.', 'brahm', 'prakash', 'father', 'nuclear', 'materi', 'I', 'lucki', 'work', 'three', 'close', 'consid', 'great', 'opportun', 'life', 'I', 'see', 'four', 'mileston', 'career']\n"
     ]
    }
   ],
   "source": [
    "print(out)"
   ]
  },
  {
   "cell_type": "code",
   "execution_count": 70,
   "metadata": {},
   "outputs": [],
   "source": [
    "X=' '.join(out)"
   ]
  },
  {
   "cell_type": "code",
   "execution_count": 71,
   "metadata": {},
   "outputs": [
    {
     "name": "stdout",
     "output_type": "stream",
     "text": [
      "I three vision india In 3000 year histori peopl world come invad us captur land conquer mind from alexand onward greek turk mogul portugues british french dutch came loot us took yet done nation We conquer anyon We grab land cultur histori tri enforc way life whi becaus respect freedom others.that first vision freedom I believ india got first vision 1857 start war independ It freedom must protect nurtur build If free one respect us My second vision india ’ develop for fifti year develop nation It time see develop nation We among top 5 nation world term gdp We 10 percent growth rate area our poverti level fall our achiev global recognis today yet lack self-confid see develop nation self-reli self-assur isn ’ incorrect I third vision india must stand world becaus I believ unless india stand world one respect us onli strength respect strength We must strong militari power also econom power both must go hand-in-hand My good fortun work three great mind dr. vikram sarabhai dept space professor satish dhawan succeed dr. brahm prakash father nuclear materi I lucki work three close consid great opportun life I see four mileston career\n"
     ]
    }
   ],
   "source": [
    "print(X)"
   ]
  },
  {
   "cell_type": "code",
   "execution_count": 72,
   "metadata": {},
   "outputs": [],
   "source": [
    "list_of_words=nltk.word_tokenize(paragraph) # tokenization\n",
    "non_stop_non_punc=[]\n",
    "root=[]\n",
    "prize=[]\n",
    "for i in range(len(list_of_words)):\n",
    "    if list_of_words[i] not in stopwords.words('english') and list_of_words[i] not in string.punctuation: # getting rid of stopwords and punctuation\n",
    "        non_stop_non_punc.append(list_of_words[i]) # for printing in next cell only\n",
    "        root.append(stemmer.stem(list_of_words[i])) # stemming\n",
    "prize=' '.join(root)\n",
    "        \n",
    "        \n",
    "    \n",
    "   \n",
    "    "
   ]
  },
  {
   "cell_type": "code",
   "execution_count": 89,
   "metadata": {},
   "outputs": [
    {
     "name": "stdout",
     "output_type": "stream",
     "text": [
      "['I', 'three', 'visions', 'India', 'In', '3000', 'years', 'history', 'people', 'world', 'come', 'invaded', 'us', 'captured', 'lands', 'conquered', 'minds', 'From', 'Alexander', 'onwards', 'Greeks', 'Turks', 'Moguls', 'Portuguese', 'British', 'French', 'Dutch', 'came', 'looted', 'us', 'took', 'Yet', 'done', 'nation', 'We', 'conquered', 'anyone', 'We', 'grabbed', 'land', 'culture', 'history', 'tried', 'enforce', 'way', 'life', 'Why', 'Because', 'respect', 'freedom', 'others.That', 'first', 'vision', 'freedom', 'I', 'believe', 'India', 'got', 'first', 'vision', '1857', 'started', 'War', 'Independence', 'It', 'freedom', 'must', 'protect', 'nurture', 'build', 'If', 'free', 'one', 'respect', 'us', 'My', 'second', 'vision', 'India', '’', 'development', 'For', 'fifty', 'years', 'developing', 'nation', 'It', 'time', 'see', 'developed', 'nation', 'We', 'among', 'top', '5', 'nations', 'world', 'terms', 'GDP', 'We', '10', 'percent', 'growth', 'rate', 'areas', 'Our', 'poverty', 'levels', 'falling', 'Our', 'achievements', 'globally', 'recognised', 'today', 'Yet', 'lack', 'self-confidence', 'see', 'developed', 'nation', 'self-reliant', 'self-assured', 'Isn', '’', 'incorrect', 'I', 'third', 'vision', 'India', 'must', 'stand', 'world', 'Because', 'I', 'believe', 'unless', 'India', 'stands', 'world', 'one', 'respect', 'us', 'Only', 'strength', 'respects', 'strength', 'We', 'must', 'strong', 'military', 'power', 'also', 'economic', 'power', 'Both', 'must', 'go', 'hand-in-hand', 'My', 'good', 'fortune', 'worked', 'three', 'great', 'minds', 'Dr.', 'Vikram', 'Sarabhai', 'Dept', 'space', 'Professor', 'Satish', 'Dhawan', 'succeeded', 'Dr.', 'Brahm', 'Prakash', 'father', 'nuclear', 'material', 'I', 'lucky', 'worked', 'three', 'closely', 'consider', 'great', 'opportunity', 'life', 'I', 'see', 'four', 'milestones', 'career']\n"
     ]
    }
   ],
   "source": [
    "print(non_stop_non_punc)"
   ]
  },
  {
   "cell_type": "code",
   "execution_count": 74,
   "metadata": {},
   "outputs": [
    {
     "name": "stdout",
     "output_type": "stream",
     "text": [
      "['I', 'three', 'vision', 'india', 'In', '3000', 'year', 'histori', 'peopl', 'world', 'come', 'invad', 'us', 'captur', 'land', 'conquer', 'mind', 'from', 'alexand', 'onward', 'greek', 'turk', 'mogul', 'portugues', 'british', 'french', 'dutch', 'came', 'loot', 'us', 'took', 'yet', 'done', 'nation', 'We', 'conquer', 'anyon', 'We', 'grab', 'land', 'cultur', 'histori', 'tri', 'enforc', 'way', 'life', 'whi', 'becaus', 'respect', 'freedom', 'others.that', 'first', 'vision', 'freedom', 'I', 'believ', 'india', 'got', 'first', 'vision', '1857', 'start', 'war', 'independ', 'It', 'freedom', 'must', 'protect', 'nurtur', 'build', 'If', 'free', 'one', 'respect', 'us', 'My', 'second', 'vision', 'india', '’', 'develop', 'for', 'fifti', 'year', 'develop', 'nation', 'It', 'time', 'see', 'develop', 'nation', 'We', 'among', 'top', '5', 'nation', 'world', 'term', 'gdp', 'We', '10', 'percent', 'growth', 'rate', 'area', 'our', 'poverti', 'level', 'fall', 'our', 'achiev', 'global', 'recognis', 'today', 'yet', 'lack', 'self-confid', 'see', 'develop', 'nation', 'self-reli', 'self-assur', 'isn', '’', 'incorrect', 'I', 'third', 'vision', 'india', 'must', 'stand', 'world', 'becaus', 'I', 'believ', 'unless', 'india', 'stand', 'world', 'one', 'respect', 'us', 'onli', 'strength', 'respect', 'strength', 'We', 'must', 'strong', 'militari', 'power', 'also', 'econom', 'power', 'both', 'must', 'go', 'hand-in-hand', 'My', 'good', 'fortun', 'work', 'three', 'great', 'mind', 'dr.', 'vikram', 'sarabhai', 'dept', 'space', 'professor', 'satish', 'dhawan', 'succeed', 'dr.', 'brahm', 'prakash', 'father', 'nuclear', 'materi', 'I', 'lucki', 'work', 'three', 'close', 'consid', 'great', 'opportun', 'life', 'I', 'see', 'four', 'mileston', 'career']\n"
     ]
    }
   ],
   "source": [
    "print(root)"
   ]
  },
  {
   "cell_type": "code",
   "execution_count": 75,
   "metadata": {},
   "outputs": [
    {
     "name": "stdout",
     "output_type": "stream",
     "text": [
      "I three vision india In 3000 year histori peopl world come invad us captur land conquer mind from alexand onward greek turk mogul portugues british french dutch came loot us took yet done nation We conquer anyon We grab land cultur histori tri enforc way life whi becaus respect freedom others.that first vision freedom I believ india got first vision 1857 start war independ It freedom must protect nurtur build If free one respect us My second vision india ’ develop for fifti year develop nation It time see develop nation We among top 5 nation world term gdp We 10 percent growth rate area our poverti level fall our achiev global recognis today yet lack self-confid see develop nation self-reli self-assur isn ’ incorrect I third vision india must stand world becaus I believ unless india stand world one respect us onli strength respect strength We must strong militari power also econom power both must go hand-in-hand My good fortun work three great mind dr. vikram sarabhai dept space professor satish dhawan succeed dr. brahm prakash father nuclear materi I lucki work three close consid great opportun life I see four mileston career\n"
     ]
    }
   ],
   "source": [
    "print(prize)"
   ]
  },
  {
   "cell_type": "markdown",
   "metadata": {},
   "source": [
    "## Lemmatization"
   ]
  },
  {
   "cell_type": "code",
   "execution_count": 76,
   "metadata": {},
   "outputs": [],
   "source": [
    "from nltk.stem import WordNetLemmatizer\n",
    "lemma=WordNetLemmatizer()"
   ]
  },
  {
   "cell_type": "code",
   "execution_count": 83,
   "metadata": {},
   "outputs": [
    {
     "name": "stderr",
     "output_type": "stream",
     "text": [
      "[nltk_data] Downloading package wordnet to\n",
      "[nltk_data]     C:\\Users\\pc\\AppData\\Roaming\\nltk_data...\n",
      "[nltk_data]   Package wordnet is already up-to-date!\n"
     ]
    },
    {
     "data": {
      "text/plain": [
       "True"
      ]
     },
     "execution_count": 83,
     "metadata": {},
     "output_type": "execute_result"
    }
   ],
   "source": [
    "nltk.download('wordnet')"
   ]
  },
  {
   "cell_type": "code",
   "execution_count": 84,
   "metadata": {},
   "outputs": [],
   "source": [
    "list_of_words2=nltk.word_tokenize(paragraph) # tokenization\n",
    "non_stop_non_punc2=[]\n",
    "root2=[]\n",
    "prize2=[]\n",
    "for i in range(len(list_of_words2)):\n",
    "    if list_of_words2[i] not in stopwords.words('english') and list_of_words2[i] not in string.punctuation: # getting rid of stopwords and punctuation\n",
    "        non_stop_non_punc2.append(list_of_words2[i]) # for printing in next cell only\n",
    "        root2.append(lemma.lemmatize(list_of_words2[i])) # lemmatization\n",
    "prize2=' '.join(root2)\n",
    "        "
   ]
  },
  {
   "cell_type": "code",
   "execution_count": 85,
   "metadata": {},
   "outputs": [
    {
     "name": "stdout",
     "output_type": "stream",
     "text": [
      "I three vision India In 3000 year history people world come invaded u captured land conquered mind From Alexander onwards Greeks Turks Moguls Portuguese British French Dutch came looted u took Yet done nation We conquered anyone We grabbed land culture history tried enforce way life Why Because respect freedom others.That first vision freedom I believe India got first vision 1857 started War Independence It freedom must protect nurture build If free one respect u My second vision India ’ development For fifty year developing nation It time see developed nation We among top 5 nation world term GDP We 10 percent growth rate area Our poverty level falling Our achievement globally recognised today Yet lack self-confidence see developed nation self-reliant self-assured Isn ’ incorrect I third vision India must stand world Because I believe unless India stand world one respect u Only strength respect strength We must strong military power also economic power Both must go hand-in-hand My good fortune worked three great mind Dr. Vikram Sarabhai Dept space Professor Satish Dhawan succeeded Dr. Brahm Prakash father nuclear material I lucky worked three closely consider great opportunity life I see four milestone career\n"
     ]
    }
   ],
   "source": [
    "print(prize2) # Lemmatization O/P"
   ]
  },
  {
   "cell_type": "code",
   "execution_count": 86,
   "metadata": {},
   "outputs": [
    {
     "name": "stdout",
     "output_type": "stream",
     "text": [
      "I three vision india In 3000 year histori peopl world come invad us captur land conquer mind from alexand onward greek turk mogul portugues british french dutch came loot us took yet done nation We conquer anyon We grab land cultur histori tri enforc way life whi becaus respect freedom others.that first vision freedom I believ india got first vision 1857 start war independ It freedom must protect nurtur build If free one respect us My second vision india ’ develop for fifti year develop nation It time see develop nation We among top 5 nation world term gdp We 10 percent growth rate area our poverti level fall our achiev global recognis today yet lack self-confid see develop nation self-reli self-assur isn ’ incorrect I third vision india must stand world becaus I believ unless india stand world one respect us onli strength respect strength We must strong militari power also econom power both must go hand-in-hand My good fortun work three great mind dr. vikram sarabhai dept space professor satish dhawan succeed dr. brahm prakash father nuclear materi I lucki work three close consid great opportun life I see four mileston career\n"
     ]
    }
   ],
   "source": [
    "print(prize) # Stemming O/P"
   ]
  },
  {
   "cell_type": "markdown",
   "metadata": {},
   "source": [
    "In Lemmatization, the root words are meaningful(understandable to the user) : history - histori"
   ]
  }
 ],
 "metadata": {
  "kernelspec": {
   "display_name": "Python 3",
   "language": "python",
   "name": "python3"
  },
  "language_info": {
   "codemirror_mode": {
    "name": "ipython",
    "version": 3
   },
   "file_extension": ".py",
   "mimetype": "text/x-python",
   "name": "python",
   "nbconvert_exporter": "python",
   "pygments_lexer": "ipython3",
   "version": "3.7.3"
  }
 },
 "nbformat": 4,
 "nbformat_minor": 2
}
